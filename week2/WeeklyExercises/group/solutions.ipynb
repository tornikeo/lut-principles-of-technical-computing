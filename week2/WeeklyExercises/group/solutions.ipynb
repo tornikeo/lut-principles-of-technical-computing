{
 "cells": [
  {
   "cell_type": "markdown",
   "metadata": {},
   "source": []
  },
  {
   "cell_type": "markdown",
   "metadata": {},
   "source": [
    "Prove that:  \n",
    "\n",
    "- The sequence an = 1/n, n = N, is a Cauchy sequence.\n",
    "\n",
    "Let be $\\epsilon$ > 0. Let's define $N := \\lceil\\frac{2}{\\epsilon}\\rceil$.  Then for any $n > N \\implies \\epsilon > \\frac{2}{n}$. And for any $m > N \\implies \\epsilon > \\frac{2}{m}$  Then, by triangle inequality $ d(a_n, a_m) \\le d(a_n, 0) + d(a_m, 0) = \\frac{1}{n} + \\frac{1}{m} \\lt \\epsilon $. Which makes $a_n$ a Cauchy sequence by definition.\n",
    "\n",
    "\n",
    "- Every converging sequence is a Cauchy sequence.\n",
    "\n",
    "Let any $x_n$ be converging sequence. \n",
    "Let $ x_n \\to x$.  \n",
    "Let any $\\epsilon > 0$  \n",
    "Let $\\delta = \\frac{\\epsilon}{2}$  \n",
    "Then $\\exists N \\in \\mathbb{N} : m, n > N \\implies d(x_m, x) < \\delta , d(x_n, x) < \\delta $  \n",
    "Then by triangle inequality, $ d(x_m, x_n) \\le d(x_m, x) + d(x_n, x) < 2 \\delta < \\epsilon $. Which completes the proof.\n",
    "\n",
    "- A convergent sequence in $X$ is bounded and its limit is unique\n",
    "\n",
    "Proof that convergent sequence is bounded.  \n",
    "Let $x_n \\to x$ be convergent sequence.  \n",
    "Let $\\epsilon := 1$.  \n",
    "Then $\\exists N : n > N \\implies d(x_n, x) < \\epsilon = 1$  \n",
    "Then by Triangle Inequality, $d(x_n, x) \\le d(x_n, 0) + d(x, 0) \\le d(x_n, 0) - d(x, 0) < 1 \\implies d(x_n,0) < d(x,0) + 1$  \n",
    "Define $M = \\max \\{ d(x, 0) + 1, d(x_1, 0), d(x_2, 0), ..., d(x_N,0) \\}$.  \n",
    "Then $\\forall n \\in N, d(x_n, 0) \\le M$. Which completes the proof.\n",
    "\n",
    "Proof that limit of convergent sequence is unique.  \n",
    "\n",
    "Assume $x_n \\to L$ and $x_n \\to M$ and $\\exists \\delta: |L - M| = \\delta, \\delta > 0 $\n",
    "\n",
    "Define $\\epsilon = \\delta / 2$  \n",
    "Then $\\exists N : n > N \\implies |x_n - L| < \\epsilon$ and $|x_n - M| < \\epsilon$  \n",
    "Then $ |x_n - L| - |x_n - M| < 2 * \\epsilon < \\delta $  \n"
   ]
  },
  {
   "cell_type": "markdown",
   "metadata": {},
   "source": []
  }
 ],
 "metadata": {
  "language_info": {
   "name": "python"
  },
  "orig_nbformat": 4
 },
 "nbformat": 4,
 "nbformat_minor": 2
}
